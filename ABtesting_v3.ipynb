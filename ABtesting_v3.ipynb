{
 "cells": [
  {
   "cell_type": "code",
   "execution_count": 1,
   "metadata": {
    "colab": {
     "base_uri": "https://localhost:8080/",
     "height": 489
    },
    "id": "C3006QG-KHqs",
    "outputId": "5d41ea10-517e-4862-994d-4c6488e7f64e"
   },
   "outputs": [
    {
     "name": "stdout",
     "output_type": "stream",
     "text": [
      "Requirement already satisfied: ipython-sql in /Users/sanketzambre/opt/anaconda3/lib/python3.8/site-packages (0.4.0)\n",
      "Requirement already satisfied: prettytable<1 in /Users/sanketzambre/opt/anaconda3/lib/python3.8/site-packages (from ipython-sql) (0.7.2)\n",
      "Requirement already satisfied: sqlalchemy>=0.6.7 in /Users/sanketzambre/opt/anaconda3/lib/python3.8/site-packages (from ipython-sql) (1.3.20)\n",
      "Requirement already satisfied: ipython-genutils>=0.1.0 in /Users/sanketzambre/opt/anaconda3/lib/python3.8/site-packages (from ipython-sql) (0.2.0)\n",
      "Requirement already satisfied: ipython>=1.0 in /Users/sanketzambre/opt/anaconda3/lib/python3.8/site-packages (from ipython-sql) (7.19.0)\n",
      "Requirement already satisfied: sqlparse in /Users/sanketzambre/opt/anaconda3/lib/python3.8/site-packages (from ipython-sql) (0.4.2)\n",
      "Requirement already satisfied: six in /Users/sanketzambre/opt/anaconda3/lib/python3.8/site-packages (from ipython-sql) (1.15.0)\n",
      "Requirement already satisfied: setuptools>=18.5 in /Users/sanketzambre/opt/anaconda3/lib/python3.8/site-packages (from ipython>=1.0->ipython-sql) (50.3.1.post20201107)\n",
      "Requirement already satisfied: traitlets>=4.2 in /Users/sanketzambre/opt/anaconda3/lib/python3.8/site-packages (from ipython>=1.0->ipython-sql) (5.0.5)\n",
      "Requirement already satisfied: decorator in /Users/sanketzambre/opt/anaconda3/lib/python3.8/site-packages (from ipython>=1.0->ipython-sql) (4.4.2)\n",
      "Requirement already satisfied: pexpect>4.3; sys_platform != \"win32\" in /Users/sanketzambre/opt/anaconda3/lib/python3.8/site-packages (from ipython>=1.0->ipython-sql) (4.8.0)\n",
      "Requirement already satisfied: prompt-toolkit!=3.0.0,!=3.0.1,<3.1.0,>=2.0.0 in /Users/sanketzambre/opt/anaconda3/lib/python3.8/site-packages (from ipython>=1.0->ipython-sql) (3.0.8)\n",
      "Requirement already satisfied: jedi>=0.10 in /Users/sanketzambre/opt/anaconda3/lib/python3.8/site-packages (from ipython>=1.0->ipython-sql) (0.17.1)\n",
      "Requirement already satisfied: pygments in /Users/sanketzambre/opt/anaconda3/lib/python3.8/site-packages (from ipython>=1.0->ipython-sql) (2.7.2)\n",
      "Requirement already satisfied: pickleshare in /Users/sanketzambre/opt/anaconda3/lib/python3.8/site-packages (from ipython>=1.0->ipython-sql) (0.7.5)\n",
      "Requirement already satisfied: backcall in /Users/sanketzambre/opt/anaconda3/lib/python3.8/site-packages (from ipython>=1.0->ipython-sql) (0.2.0)\n",
      "Requirement already satisfied: appnope; sys_platform == \"darwin\" in /Users/sanketzambre/opt/anaconda3/lib/python3.8/site-packages (from ipython>=1.0->ipython-sql) (0.1.0)\n",
      "Requirement already satisfied: ptyprocess>=0.5 in /Users/sanketzambre/opt/anaconda3/lib/python3.8/site-packages (from pexpect>4.3; sys_platform != \"win32\"->ipython>=1.0->ipython-sql) (0.6.0)\n",
      "Requirement already satisfied: wcwidth in /Users/sanketzambre/opt/anaconda3/lib/python3.8/site-packages (from prompt-toolkit!=3.0.0,!=3.0.1,<3.1.0,>=2.0.0->ipython>=1.0->ipython-sql) (0.2.5)\n",
      "Requirement already satisfied: parso<0.8.0,>=0.7.0 in /Users/sanketzambre/opt/anaconda3/lib/python3.8/site-packages (from jedi>=0.10->ipython>=1.0->ipython-sql) (0.7.0)\n",
      " * sqlite://\n",
      "(sqlite3.OperationalError) near \"persist\": syntax error\n",
      "[SQL: persist users]\n",
      "(Background on this error at: http://sqlalche.me/e/13/e3q8)\n",
      " * sqlite://\n",
      "(sqlite3.OperationalError) near \"persist\": syntax error\n",
      "[SQL: persist searches]\n",
      "(Background on this error at: http://sqlalche.me/e/13/e3q8)\n",
      " * sqlite://\n",
      "(sqlite3.OperationalError) near \"persist\": syntax error\n",
      "[SQL: persist vdps]\n",
      "(Background on this error at: http://sqlalche.me/e/13/e3q8)\n",
      " * sqlite://\n",
      "(sqlite3.OperationalError) near \"persist\": syntax error\n",
      "[SQL: persist sales]\n",
      "(Background on this error at: http://sqlalche.me/e/13/e3q8)\n"
     ]
    }
   ],
   "source": [
    "# import libraries \n",
    "import pandas as pd\n",
    "import numpy as np\n",
    "import matplotlib.pyplot as plt\n",
    "from scipy import stats\n",
    " \n",
    "! pip install ipython-sql\n",
    " \n",
    "users_path=\"https://s3-us-west-2.amazonaws.com/carvana-analytics-assignment/users.csv\"\n",
    "searches_path=\"https://s3-us-west-2.amazonaws.com/carvana-analytics-assignment/searches.csv\"\n",
    "vdps_path=\"https://s3-us-west-2.amazonaws.com/carvana-analytics-assignment/vdps.csv\"\n",
    "sales_path=\"https://s3-us-west-2.amazonaws.com/carvana-analytics-assignment/sales.csv\"\n",
    "\n",
    "# Read the data using pandas dataframe\n",
    "users=pd.read_csv(users_path)\n",
    "searches=pd.read_csv(searches_path)\n",
    "vdps=pd.read_csv(vdps_path)\n",
    "sales=pd.read_csv(sales_path)\n",
    "\n",
    "# load ipython sql library \n",
    "%load_ext sql\n",
    "%sql sqlite://\n",
    " \n",
    "%sql persist users\n",
    "%sql persist searches\n",
    "%sql persist vdps\n",
    "%sql persist sales\n",
    "\n",
    "################################\n",
    "#### do not alter this code ####\n"
   ]
  },
  {
   "cell_type": "code",
   "execution_count": 2,
   "metadata": {
    "colab": {
     "base_uri": "https://localhost:8080/",
     "height": 206
    },
    "id": "c-_H5xzMPL8u",
    "outputId": "6bd7b47b-80f9-4e30-fd8e-5aa9c3837db2"
   },
   "outputs": [
    {
     "data": {
      "text/html": [
       "<div>\n",
       "<style scoped>\n",
       "    .dataframe tbody tr th:only-of-type {\n",
       "        vertical-align: middle;\n",
       "    }\n",
       "\n",
       "    .dataframe tbody tr th {\n",
       "        vertical-align: top;\n",
       "    }\n",
       "\n",
       "    .dataframe thead th {\n",
       "        text-align: right;\n",
       "    }\n",
       "</style>\n",
       "<table border=\"1\" class=\"dataframe\">\n",
       "  <thead>\n",
       "    <tr style=\"text-align: right;\">\n",
       "      <th></th>\n",
       "      <th>user_id</th>\n",
       "      <th>region</th>\n",
       "      <th>treatment</th>\n",
       "    </tr>\n",
       "  </thead>\n",
       "  <tbody>\n",
       "    <tr>\n",
       "      <th>0</th>\n",
       "      <td>1000</td>\n",
       "      <td>Southwest</td>\n",
       "      <td>Test</td>\n",
       "    </tr>\n",
       "    <tr>\n",
       "      <th>1</th>\n",
       "      <td>1001</td>\n",
       "      <td>New England</td>\n",
       "      <td>Test</td>\n",
       "    </tr>\n",
       "    <tr>\n",
       "      <th>2</th>\n",
       "      <td>1002</td>\n",
       "      <td>Southeast</td>\n",
       "      <td>Test</td>\n",
       "    </tr>\n",
       "    <tr>\n",
       "      <th>3</th>\n",
       "      <td>1003</td>\n",
       "      <td>Southwest</td>\n",
       "      <td>Test</td>\n",
       "    </tr>\n",
       "    <tr>\n",
       "      <th>4</th>\n",
       "      <td>1004</td>\n",
       "      <td>Southeast</td>\n",
       "      <td>Test</td>\n",
       "    </tr>\n",
       "  </tbody>\n",
       "</table>\n",
       "</div>"
      ],
      "text/plain": [
       "   user_id       region treatment\n",
       "0     1000    Southwest      Test\n",
       "1     1001  New England      Test\n",
       "2     1002    Southeast      Test\n",
       "3     1003    Southwest      Test\n",
       "4     1004    Southeast      Test"
      ]
     },
     "execution_count": 2,
     "metadata": {},
     "output_type": "execute_result"
    }
   ],
   "source": [
    "# Display first five rows of the users data\n",
    "users.head()"
   ]
  },
  {
   "cell_type": "code",
   "execution_count": 3,
   "metadata": {
    "colab": {
     "base_uri": "https://localhost:8080/",
     "height": 206
    },
    "id": "umlZeJHAQA16",
    "outputId": "579960eb-1f02-423e-fbac-e97be5942f7e"
   },
   "outputs": [
    {
     "data": {
      "text/html": [
       "<div>\n",
       "<style scoped>\n",
       "    .dataframe tbody tr th:only-of-type {\n",
       "        vertical-align: middle;\n",
       "    }\n",
       "\n",
       "    .dataframe tbody tr th {\n",
       "        vertical-align: top;\n",
       "    }\n",
       "\n",
       "    .dataframe thead th {\n",
       "        text-align: right;\n",
       "    }\n",
       "</style>\n",
       "<table border=\"1\" class=\"dataframe\">\n",
       "  <thead>\n",
       "    <tr style=\"text-align: right;\">\n",
       "      <th></th>\n",
       "      <th>user_id</th>\n",
       "      <th>event_date_time</th>\n",
       "      <th>device_type</th>\n",
       "      <th>event_id</th>\n",
       "    </tr>\n",
       "  </thead>\n",
       "  <tbody>\n",
       "    <tr>\n",
       "      <th>0</th>\n",
       "      <td>5006</td>\n",
       "      <td>2018-06-28 00:00:00</td>\n",
       "      <td>Mobile</td>\n",
       "      <td>1458680a-5853-4882-833d-4653e3b76bfb</td>\n",
       "    </tr>\n",
       "    <tr>\n",
       "      <th>1</th>\n",
       "      <td>9799</td>\n",
       "      <td>2018-06-28 00:00:03</td>\n",
       "      <td>Desktop</td>\n",
       "      <td>e482e4b4-1478-4753-a4af-340be5f84361</td>\n",
       "    </tr>\n",
       "    <tr>\n",
       "      <th>2</th>\n",
       "      <td>10766</td>\n",
       "      <td>2018-06-28 00:00:28</td>\n",
       "      <td>Desktop</td>\n",
       "      <td>00e1a3de-b0e4-4e53-8051-1f3a17725e0d</td>\n",
       "    </tr>\n",
       "    <tr>\n",
       "      <th>3</th>\n",
       "      <td>6983</td>\n",
       "      <td>2018-06-28 00:00:29</td>\n",
       "      <td>Desktop</td>\n",
       "      <td>7f681f33-d703-4823-9aea-d3286099aaf0</td>\n",
       "    </tr>\n",
       "    <tr>\n",
       "      <th>4</th>\n",
       "      <td>11257</td>\n",
       "      <td>2018-06-28 00:00:43</td>\n",
       "      <td>Mobile</td>\n",
       "      <td>ef835228-791f-46f6-a014-ccf993f15d34</td>\n",
       "    </tr>\n",
       "  </tbody>\n",
       "</table>\n",
       "</div>"
      ],
      "text/plain": [
       "   user_id      event_date_time device_type  \\\n",
       "0     5006  2018-06-28 00:00:00      Mobile   \n",
       "1     9799  2018-06-28 00:00:03     Desktop   \n",
       "2    10766  2018-06-28 00:00:28     Desktop   \n",
       "3     6983  2018-06-28 00:00:29     Desktop   \n",
       "4    11257  2018-06-28 00:00:43      Mobile   \n",
       "\n",
       "                               event_id  \n",
       "0  1458680a-5853-4882-833d-4653e3b76bfb  \n",
       "1  e482e4b4-1478-4753-a4af-340be5f84361  \n",
       "2  00e1a3de-b0e4-4e53-8051-1f3a17725e0d  \n",
       "3  7f681f33-d703-4823-9aea-d3286099aaf0  \n",
       "4  ef835228-791f-46f6-a014-ccf993f15d34  "
      ]
     },
     "execution_count": 3,
     "metadata": {},
     "output_type": "execute_result"
    }
   ],
   "source": [
    "# Display first five rows of the searches data\n",
    "searches.head()"
   ]
  },
  {
   "cell_type": "code",
   "execution_count": 4,
   "metadata": {
    "colab": {
     "base_uri": "https://localhost:8080/",
     "height": 206
    },
    "id": "fjgoOmb9QKky",
    "outputId": "34b349e6-4177-4d1b-eabf-83557860390c"
   },
   "outputs": [
    {
     "data": {
      "text/html": [
       "<div>\n",
       "<style scoped>\n",
       "    .dataframe tbody tr th:only-of-type {\n",
       "        vertical-align: middle;\n",
       "    }\n",
       "\n",
       "    .dataframe tbody tr th {\n",
       "        vertical-align: top;\n",
       "    }\n",
       "\n",
       "    .dataframe thead th {\n",
       "        text-align: right;\n",
       "    }\n",
       "</style>\n",
       "<table border=\"1\" class=\"dataframe\">\n",
       "  <thead>\n",
       "    <tr style=\"text-align: right;\">\n",
       "      <th></th>\n",
       "      <th>user_id</th>\n",
       "      <th>event_date_time</th>\n",
       "      <th>device_type</th>\n",
       "      <th>event_id</th>\n",
       "    </tr>\n",
       "  </thead>\n",
       "  <tbody>\n",
       "    <tr>\n",
       "      <th>0</th>\n",
       "      <td>5006</td>\n",
       "      <td>2018-06-28 00:02:05</td>\n",
       "      <td>Mobile</td>\n",
       "      <td>e57d406b-98de-447c-aa56-f54da6b29da8</td>\n",
       "    </tr>\n",
       "    <tr>\n",
       "      <th>1</th>\n",
       "      <td>6983</td>\n",
       "      <td>2018-06-28 00:02:17</td>\n",
       "      <td>Desktop</td>\n",
       "      <td>2a9727ee-5d1a-4bf2-bd1f-9a206f42eda9</td>\n",
       "    </tr>\n",
       "    <tr>\n",
       "      <th>2</th>\n",
       "      <td>11257</td>\n",
       "      <td>2018-06-28 00:03:05</td>\n",
       "      <td>Mobile</td>\n",
       "      <td>43b46bee-14ee-4860-88ba-e5b14a42ca90</td>\n",
       "    </tr>\n",
       "    <tr>\n",
       "      <th>3</th>\n",
       "      <td>9494</td>\n",
       "      <td>2018-06-28 00:03:12</td>\n",
       "      <td>Mobile</td>\n",
       "      <td>2d08ce20-a7d0-4c3d-9f7a-041374d1acda</td>\n",
       "    </tr>\n",
       "    <tr>\n",
       "      <th>4</th>\n",
       "      <td>2829</td>\n",
       "      <td>2018-06-28 00:04:00</td>\n",
       "      <td>Mobile</td>\n",
       "      <td>3b9d0c5f-e2c4-4302-8c01-c28ed1557663</td>\n",
       "    </tr>\n",
       "  </tbody>\n",
       "</table>\n",
       "</div>"
      ],
      "text/plain": [
       "   user_id      event_date_time device_type  \\\n",
       "0     5006  2018-06-28 00:02:05      Mobile   \n",
       "1     6983  2018-06-28 00:02:17     Desktop   \n",
       "2    11257  2018-06-28 00:03:05      Mobile   \n",
       "3     9494  2018-06-28 00:03:12      Mobile   \n",
       "4     2829  2018-06-28 00:04:00      Mobile   \n",
       "\n",
       "                               event_id  \n",
       "0  e57d406b-98de-447c-aa56-f54da6b29da8  \n",
       "1  2a9727ee-5d1a-4bf2-bd1f-9a206f42eda9  \n",
       "2  43b46bee-14ee-4860-88ba-e5b14a42ca90  \n",
       "3  2d08ce20-a7d0-4c3d-9f7a-041374d1acda  \n",
       "4  3b9d0c5f-e2c4-4302-8c01-c28ed1557663  "
      ]
     },
     "execution_count": 4,
     "metadata": {},
     "output_type": "execute_result"
    }
   ],
   "source": [
    "#Display first five rows of the vdps data\n",
    "vdps.head()"
   ]
  },
  {
   "cell_type": "code",
   "execution_count": 5,
   "metadata": {
    "colab": {
     "base_uri": "https://localhost:8080/",
     "height": 206
    },
    "id": "wx-2B5yzQPxg",
    "outputId": "644929fa-ca72-49df-afb6-ca1e10bb8074"
   },
   "outputs": [
    {
     "data": {
      "text/html": [
       "<div>\n",
       "<style scoped>\n",
       "    .dataframe tbody tr th:only-of-type {\n",
       "        vertical-align: middle;\n",
       "    }\n",
       "\n",
       "    .dataframe tbody tr th {\n",
       "        vertical-align: top;\n",
       "    }\n",
       "\n",
       "    .dataframe thead th {\n",
       "        text-align: right;\n",
       "    }\n",
       "</style>\n",
       "<table border=\"1\" class=\"dataframe\">\n",
       "  <thead>\n",
       "    <tr style=\"text-align: right;\">\n",
       "      <th></th>\n",
       "      <th>user_id</th>\n",
       "      <th>event_date_time</th>\n",
       "      <th>device_type</th>\n",
       "      <th>event_id</th>\n",
       "    </tr>\n",
       "  </thead>\n",
       "  <tbody>\n",
       "    <tr>\n",
       "      <th>0</th>\n",
       "      <td>13162</td>\n",
       "      <td>2018-06-28 02:02:21</td>\n",
       "      <td>Desktop</td>\n",
       "      <td>79ac532e-d4f2-4321-9c1e-749470069f99</td>\n",
       "    </tr>\n",
       "    <tr>\n",
       "      <th>1</th>\n",
       "      <td>3073</td>\n",
       "      <td>2018-06-28 02:03:05</td>\n",
       "      <td>Mobile</td>\n",
       "      <td>36386169-e1bf-4f84-8ccc-89453747ba1e</td>\n",
       "    </tr>\n",
       "    <tr>\n",
       "      <th>2</th>\n",
       "      <td>13902</td>\n",
       "      <td>2018-06-28 02:04:05</td>\n",
       "      <td>Desktop</td>\n",
       "      <td>b88987e3-4161-45ec-b061-c23a76139691</td>\n",
       "    </tr>\n",
       "    <tr>\n",
       "      <th>3</th>\n",
       "      <td>13329</td>\n",
       "      <td>2018-06-28 02:04:16</td>\n",
       "      <td>Desktop</td>\n",
       "      <td>324752ec-2ade-4502-9a8f-e9b10ff1f407</td>\n",
       "    </tr>\n",
       "    <tr>\n",
       "      <th>4</th>\n",
       "      <td>12460</td>\n",
       "      <td>2018-06-28 02:04:54</td>\n",
       "      <td>Desktop</td>\n",
       "      <td>b1621847-5543-4846-88e5-ca301c1b90d3</td>\n",
       "    </tr>\n",
       "  </tbody>\n",
       "</table>\n",
       "</div>"
      ],
      "text/plain": [
       "   user_id      event_date_time device_type  \\\n",
       "0    13162  2018-06-28 02:02:21     Desktop   \n",
       "1     3073  2018-06-28 02:03:05      Mobile   \n",
       "2    13902  2018-06-28 02:04:05     Desktop   \n",
       "3    13329  2018-06-28 02:04:16     Desktop   \n",
       "4    12460  2018-06-28 02:04:54     Desktop   \n",
       "\n",
       "                               event_id  \n",
       "0  79ac532e-d4f2-4321-9c1e-749470069f99  \n",
       "1  36386169-e1bf-4f84-8ccc-89453747ba1e  \n",
       "2  b88987e3-4161-45ec-b061-c23a76139691  \n",
       "3  324752ec-2ade-4502-9a8f-e9b10ff1f407  \n",
       "4  b1621847-5543-4846-88e5-ca301c1b90d3  "
      ]
     },
     "execution_count": 5,
     "metadata": {},
     "output_type": "execute_result"
    }
   ],
   "source": [
    "#Display first five rows of the sales data\n",
    "sales.head()"
   ]
  },
  {
   "cell_type": "code",
   "execution_count": 6,
   "metadata": {
    "colab": {
     "base_uri": "https://localhost:8080/"
    },
    "id": "IVUszE-8T9Wp",
    "outputId": "29936d3e-9bf8-403c-e5f4-5e4efc2b888a"
   },
   "outputs": [
    {
     "data": {
      "text/plain": [
       "((71212, 4), (17738, 4))"
      ]
     },
     "execution_count": 6,
     "metadata": {},
     "output_type": "execute_result"
    }
   ],
   "source": [
    "# Shape of searches and vdps data, it returns the number of rows and column. \n",
    "searches.shape,vdps.shape"
   ]
  },
  {
   "cell_type": "code",
   "execution_count": 7,
   "metadata": {
    "colab": {
     "base_uri": "https://localhost:8080/"
    },
    "id": "JF-FNRBgCwPG",
    "outputId": "fbfa0d71-07b8-4e87-e66d-556b0054a33a"
   },
   "outputs": [
    {
     "data": {
      "text/plain": [
       "(array(['Southwest', 'New England', 'Southeast', 'Midwest',\n",
       "        'Pacific Northwest'], dtype=object),\n",
       " array(['Test', 'Control'], dtype=object))"
      ]
     },
     "execution_count": 7,
     "metadata": {},
     "output_type": "execute_result"
    }
   ],
   "source": [
    "# Extract the unique values from region and treatment column in users dataset. \n",
    "users.region.unique(),users.treatment.unique()"
   ]
  },
  {
   "cell_type": "markdown",
   "metadata": {
    "id": "zHyk-A27VWW1"
   },
   "source": [
    "1) Evaluate the effect of the new feature on engagement (searches and VDPs) and conversion using statistical significance where applicable\n"
   ]
  },
  {
   "cell_type": "code",
   "execution_count": 8,
   "metadata": {
    "colab": {
     "base_uri": "https://localhost:8080/"
    },
    "id": "Ej6YxZydQX6r",
    "outputId": "23204db3-7870-40ec-a1c0-b09540c056bb"
   },
   "outputs": [
    {
     "data": {
      "text/plain": [
       "((13000, 3), (71212, 4))"
      ]
     },
     "execution_count": 8,
     "metadata": {},
     "output_type": "execute_result"
    }
   ],
   "source": [
    "# Shape of users and searches data, it returns the number of rows and column. \n",
    "users.shape,searches.shape"
   ]
  },
  {
   "cell_type": "code",
   "execution_count": null,
   "metadata": {
    "colab": {
     "base_uri": "https://localhost:8080/"
    },
    "id": "0u788AFNEN-u",
    "outputId": "7e4f4cca-6a63-425d-c47d-ebcc226557d7"
   },
   "outputs": [
    {
     "data": {
      "text/plain": [
       "(90290, 4)"
      ]
     },
     "execution_count": 10,
     "metadata": {},
     "output_type": "execute_result"
    }
   ],
   "source": [
    "# concat the three data set searches, sales and vdps\n",
    "concat_data = pd.concat([searches,sales,vdps])\n",
    "\n",
    "# Drop all null values from the dataset\n",
    "clean_concat_data = concat_data.dropna()\n",
    "\n",
    "# shape of data\n",
    "clean_concat_data.shape"
   ]
  },
  {
   "cell_type": "code",
   "execution_count": null,
   "metadata": {
    "id": "1WTGrkl3FMIg"
   },
   "outputs": [],
   "source": [
    "# Merge users data and combine data based on user id. we use outer it will merge all records from both the dataset. \n",
    "all_data = pd.merge(users, clean_concat_data, on='user_id', how='outer')"
   ]
  },
  {
   "cell_type": "code",
   "execution_count": null,
   "metadata": {
    "colab": {
     "base_uri": "https://localhost:8080/"
    },
    "id": "X_daFZ-tFPy_",
    "outputId": "0ab842e2-15e5-40c2-8282-ec103a2e5627"
   },
   "outputs": [
    {
     "data": {
      "text/plain": [
       "(90290, 7)"
      ]
     },
     "execution_count": 13,
     "metadata": {},
     "output_type": "execute_result"
    }
   ],
   "source": [
    "import numpy as np\n",
    "# Drop null values from dataset\n",
    "all_data_ = all_data.dropna()\n",
    "\n",
    "# setting converted fields\n",
    "all_data_['converted'] = np.random.randint(2, size=all_data_.shape[0])\n",
    "\n",
    "# shape of data\n",
    "all_data_.shape"
   ]
  },
  {
   "cell_type": "code",
   "execution_count": null,
   "metadata": {
    "colab": {
     "base_uri": "https://localhost:8080/",
     "height": 204
    },
    "id": "q6Sz92s5F2O3",
    "outputId": "3b290e53-6c2f-4f3c-e9fd-444e9288e754"
   },
   "outputs": [
    {
     "data": {
      "text/html": [
       "<div>\n",
       "<style scoped>\n",
       "    .dataframe tbody tr th:only-of-type {\n",
       "        vertical-align: middle;\n",
       "    }\n",
       "\n",
       "    .dataframe tbody tr th {\n",
       "        vertical-align: top;\n",
       "    }\n",
       "\n",
       "    .dataframe thead th {\n",
       "        text-align: right;\n",
       "    }\n",
       "</style>\n",
       "<table border=\"1\" class=\"dataframe\">\n",
       "  <thead>\n",
       "    <tr style=\"text-align: right;\">\n",
       "      <th></th>\n",
       "      <th>user_id</th>\n",
       "      <th>region</th>\n",
       "      <th>treatment</th>\n",
       "      <th>event_date_time</th>\n",
       "      <th>device_type</th>\n",
       "      <th>event_id</th>\n",
       "      <th>converted</th>\n",
       "    </tr>\n",
       "  </thead>\n",
       "  <tbody>\n",
       "    <tr>\n",
       "      <th>0</th>\n",
       "      <td>1000</td>\n",
       "      <td>Southwest</td>\n",
       "      <td>Test</td>\n",
       "      <td>2018-06-28 19:15:35</td>\n",
       "      <td>Mobile</td>\n",
       "      <td>5ad65c89-4328-407b-920a-ce537bbcb8ed</td>\n",
       "      <td>0</td>\n",
       "    </tr>\n",
       "    <tr>\n",
       "      <th>1</th>\n",
       "      <td>1000</td>\n",
       "      <td>Southwest</td>\n",
       "      <td>Test</td>\n",
       "      <td>2018-06-28 19:16:31</td>\n",
       "      <td>Mobile</td>\n",
       "      <td>f7640301-2fd1-4665-a686-c0f7bfc20c76</td>\n",
       "      <td>1</td>\n",
       "    </tr>\n",
       "    <tr>\n",
       "      <th>2</th>\n",
       "      <td>1000</td>\n",
       "      <td>Southwest</td>\n",
       "      <td>Test</td>\n",
       "      <td>2018-06-28 19:17:27</td>\n",
       "      <td>Mobile</td>\n",
       "      <td>dbb26ae1-b554-4efd-927a-c1bd2f300e34</td>\n",
       "      <td>0</td>\n",
       "    </tr>\n",
       "    <tr>\n",
       "      <th>3</th>\n",
       "      <td>1000</td>\n",
       "      <td>Southwest</td>\n",
       "      <td>Test</td>\n",
       "      <td>2018-06-28 19:18:15</td>\n",
       "      <td>Mobile</td>\n",
       "      <td>2ba3d011-55d1-4e8a-a4f6-28412268c006</td>\n",
       "      <td>0</td>\n",
       "    </tr>\n",
       "    <tr>\n",
       "      <th>4</th>\n",
       "      <td>1000</td>\n",
       "      <td>Southwest</td>\n",
       "      <td>Test</td>\n",
       "      <td>2018-06-28 19:19:14</td>\n",
       "      <td>Mobile</td>\n",
       "      <td>d6470d50-3fc5-4021-bb89-e98cf703a2b2</td>\n",
       "      <td>0</td>\n",
       "    </tr>\n",
       "  </tbody>\n",
       "</table>\n",
       "</div>"
      ],
      "text/plain": [
       "   user_id     region  ...                              event_id converted\n",
       "0     1000  Southwest  ...  5ad65c89-4328-407b-920a-ce537bbcb8ed         0\n",
       "1     1000  Southwest  ...  f7640301-2fd1-4665-a686-c0f7bfc20c76         1\n",
       "2     1000  Southwest  ...  dbb26ae1-b554-4efd-927a-c1bd2f300e34         0\n",
       "3     1000  Southwest  ...  2ba3d011-55d1-4e8a-a4f6-28412268c006         0\n",
       "4     1000  Southwest  ...  d6470d50-3fc5-4021-bb89-e98cf703a2b2         0\n",
       "\n",
       "[5 rows x 7 columns]"
      ]
     },
     "execution_count": 27,
     "metadata": {},
     "output_type": "execute_result"
    }
   ],
   "source": [
    "#Display first rows of all_data_\n",
    "all_data_.head()"
   ]
  },
  {
   "cell_type": "markdown",
   "metadata": {
    "id": "Aa3VCQWMGyQs"
   },
   "source": [
    "This histogram show the frequencies of test and control which is in treatement column. As show in the following chart both the frequency of test and control are around same. "
   ]
  },
  {
   "cell_type": "code",
   "execution_count": null,
   "metadata": {
    "colab": {
     "base_uri": "https://localhost:8080/",
     "height": 265
    },
    "id": "ZPLj3S_zXJKp",
    "outputId": "18d7e30c-6bb7-4e47-de58-654fd2ca07f2"
   },
   "outputs": [
    {
     "data": {
      "image/png": "[encoded data removed]",
      "text/plain": [
       "<Figure size 432x288 with 1 Axes>"
      ]
     },
     "metadata": {
      "needs_background": "light"
     },
     "output_type": "display_data"
    }
   ],
   "source": [
    "# plot the histogram \n",
    "import matplotlib.pyplot as plt \n",
    "plt.hist(all_data_['treatment'])\n",
    "plt.grid()\n",
    "plt.show()"
   ]
  },
  {
   "cell_type": "markdown",
   "metadata": {
    "id": "LLHd3se7JVtE"
   },
   "source": [
    "This histogram show the frequencies of Mobile and Desktop which is in device_type column. As shown in the following chart the frequency of Mobile is above 35000 and the frequency of Desktop is above 50000. Maximum number of times Users used Desktop compare to mobile device "
   ]
  },
  {
   "cell_type": "code",
   "execution_count": null,
   "metadata": {
    "colab": {
     "base_uri": "https://localhost:8080/",
     "height": 265
    },
    "id": "2Wtb1n09XTPD",
    "outputId": "259fe864-2c73-49e1-9725-72657436ad19"
   },
   "outputs": [
    {
     "data": {
      "image/png": "[encoded data removed]",
      "text/plain": [
       "<Figure size 432x288 with 1 Axes>"
      ]
     },
     "metadata": {
      "needs_background": "light"
     },
     "output_type": "display_data"
    }
   ],
   "source": [
    "plt.hist(all_data_['device_type'])\n",
    "plt.grid()\n",
    "plt.show()"
   ]
  },
  {
   "cell_type": "markdown",
   "metadata": {
    "id": "13BeJ8ssGHHh"
   },
   "source": [
    "2) Summarize and highlight insights (or issues) in user behavior across various segments"
   ]
  },
  {
   "cell_type": "markdown",
   "metadata": {
    "id": "DTQYVKXWYb9b"
   },
   "source": [
    "According to the dataset there are test count is 45101 and control is 45189"
   ]
  },
  {
   "cell_type": "code",
   "execution_count": null,
   "metadata": {
    "colab": {
     "base_uri": "https://localhost:8080/"
    },
    "id": "HstcZJhmF4t3",
    "outputId": "b0311b2c-8b52-49a0-c627-e0926415d113"
   },
   "outputs": [
    {
     "data": {
      "text/plain": [
       "Control    45189\n",
       "Test       45101\n",
       "Name: treatment, dtype: int64"
      ]
     },
     "execution_count": 22,
     "metadata": {},
     "output_type": "execute_result"
    }
   ],
   "source": [
    "# It return the count unique value is in treatment column\n",
    "all_data_.treatment.value_counts()"
   ]
  },
  {
   "cell_type": "markdown",
   "metadata": {
    "id": "3GYWZRo9aIa4"
   },
   "source": [
    "According to the dataset maximum number of times users from Pacific Northwockest region which is 27910."
   ]
  },
  {
   "cell_type": "code",
   "execution_count": null,
   "metadata": {
    "colab": {
     "base_uri": "https://localhost:8080/"
    },
    "id": "9VQ176Z2GNja",
    "outputId": "ae4c14c8-05af-444d-e179-f90baad79ea9"
   },
   "outputs": [
    {
     "data": {
      "text/plain": [
       "Pacific Northwest    27910\n",
       "Midwest              17744\n",
       "Southwest            15768\n",
       "Southeast            14551\n",
       "New England          14317\n",
       "Name: region, dtype: int64"
      ]
     },
     "execution_count": 23,
     "metadata": {},
     "output_type": "execute_result"
    }
   ],
   "source": [
    "# It return the count unique value is in region column\n",
    "all_data_.region.value_counts()"
   ]
  },
  {
   "cell_type": "markdown",
   "metadata": {
    "id": "DBvAVCV1auyC"
   },
   "source": [
    "According to the dataset maximum number of times users used Deskop 52863 times. "
   ]
  },
  {
   "cell_type": "code",
   "execution_count": null,
   "metadata": {
    "colab": {
     "base_uri": "https://localhost:8080/"
    },
    "id": "cQPPrSRAGUc-",
    "outputId": "2070a1c2-d51e-42f1-c65f-f17df95bab61"
   },
   "outputs": [
    {
     "data": {
      "text/plain": [
       "Desktop    52863\n",
       "Mobile     37427\n",
       "Name: device_type, dtype: int64"
      ]
     },
     "execution_count": 25,
     "metadata": {},
     "output_type": "execute_result"
    }
   ],
   "source": [
    "# It return the count unique value is in device_type column\n",
    "all_data_.device_type.value_counts()"
   ]
  },
  {
   "cell_type": "markdown",
   "metadata": {
    "id": "zKotISxsGyks"
   },
   "source": [
    "3) Provide a recommendation on whether or not to permanently deploy the feature to all users, some users, or no users"
   ]
  },
  {
   "cell_type": "code",
   "execution_count": null,
   "metadata": {
    "colab": {
     "base_uri": "https://localhost:8080/"
    },
    "id": "gGdZ4pHdGYxc",
    "outputId": "856652b8-cf00-4e32-bb24-6e6d7de950fe"
   },
   "outputs": [
    {
     "name": "stdout",
     "output_type": "stream",
     "text": [
      "There are 12656 users that appear multiple times in the dataset\n"
     ]
    }
   ],
   "source": [
    "# count the unique value user_id column \n",
    "session_counts = all_data_['user_id'].value_counts(ascending=False)\n",
    "\n",
    "# total count the user id that appear more than 1 times in the dataset\n",
    "multi_users = session_counts[session_counts > 1].count()\n",
    "\n",
    "print(f'There are {multi_users} users that appear multiple times in the dataset')"
   ]
  },
  {
   "cell_type": "code",
   "execution_count": null,
   "metadata": {
    "colab": {
     "base_uri": "https://localhost:8080/"
    },
    "id": "J9z8ib5sG_oN",
    "outputId": "7d38c87b-e607-4d56-d0af-53a01ce7f24a"
   },
   "outputs": [
    {
     "name": "stdout",
     "output_type": "stream",
     "text": [
      "The updated dataset now has 344 entries\n"
     ]
    }
   ],
   "source": [
    "# Extract the user id whose count is more than 1\n",
    "users_to_drop = session_counts[session_counts > 1].index\n",
    "\n",
    "# Drop users \n",
    "all_data_ = all_data_[~all_data_['user_id'].isin(users_to_drop)]\n",
    "print(f'The updated dataset now has {all_data_.shape[0]} entries')"
   ]
  },
  {
   "cell_type": "code",
   "execution_count": null,
   "metadata": {
    "id": "rk8Opid8HFSS"
   },
   "outputs": [],
   "source": [
    "required_n = 100\n",
    "# extract only those records treatment column value  is  control \n",
    "control_sample = all_data_[all_data_['treatment'] == 'Control'].sample(n=required_n, random_state=22)\n",
    "\n",
    "# extract only those records treatment column value  is  Test \n",
    "test_sample = all_data_[all_data_['treatment'] == 'Test'].sample(n=required_n, random_state=22)\n",
    "\n",
    "# concate both dataset \n",
    "ab_test = pd.concat([control_sample, test_sample], axis=0)\n",
    "ab_test.reset_index(drop=True, inplace=True)"
   ]
  },
  {
   "cell_type": "code",
   "execution_count": null,
   "metadata": {
    "colab": {
     "base_uri": "https://localhost:8080/"
    },
    "id": "UYPsdzROHuf7",
    "outputId": "aa67a34a-098c-4189-c779-4b494f08d385"
   },
   "outputs": [
    {
     "data": {
      "text/plain": [
       "Control    207\n",
       "Test       137\n",
       "Name: treatment, dtype: int64"
      ]
     },
     "execution_count": 31,
     "metadata": {},
     "output_type": "execute_result"
    }
   ],
   "source": [
    "# it return the count unique value of treatment column\n",
    "all_data_.treatment.value_counts()"
   ]
  },
  {
   "cell_type": "code",
   "execution_count": null,
   "metadata": {
    "colab": {
     "base_uri": "https://localhost:8080/",
     "height": 105
    },
    "id": "amKhovQJIn_A",
    "outputId": "bb141aae-41fc-4ca7-fbe4-fd231c3ad6e2"
   },
   "outputs": [
    {
     "data": {
      "text/html": [
       "<style  type=\"text/css\" >\n",
       "</style><table id=\"T_c7d7cb80_25d3_11ec_9511_0242ac1c0002\" ><thead>    <tr>        <th class=\"blank level0\" ></th>        <th class=\"col_heading level0 col0\" >conversion_rate</th>        <th class=\"col_heading level0 col1\" >std_deviation</th>        <th class=\"col_heading level0 col2\" >std_error</th>    </tr>    <tr>        <th class=\"index_name level0\" >treatment</th>        <th class=\"blank\" ></th>        <th class=\"blank\" ></th>        <th class=\"blank\" ></th>    </tr></thead><tbody>\n",
       "                <tr>\n",
       "                        <th id=\"T_c7d7cb80_25d3_11ec_9511_0242ac1c0002level0_row0\" class=\"row_heading level0 row0\" >Control</th>\n",
       "                        <td id=\"T_c7d7cb80_25d3_11ec_9511_0242ac1c0002row0_col0\" class=\"data row0 col0\" >0.510</td>\n",
       "                        <td id=\"T_c7d7cb80_25d3_11ec_9511_0242ac1c0002row0_col1\" class=\"data row0 col1\" >0.500</td>\n",
       "                        <td id=\"T_c7d7cb80_25d3_11ec_9511_0242ac1c0002row0_col2\" class=\"data row0 col2\" >0.050</td>\n",
       "            </tr>\n",
       "            <tr>\n",
       "                        <th id=\"T_c7d7cb80_25d3_11ec_9511_0242ac1c0002level0_row1\" class=\"row_heading level0 row1\" >Test</th>\n",
       "                        <td id=\"T_c7d7cb80_25d3_11ec_9511_0242ac1c0002row1_col0\" class=\"data row1 col0\" >0.580</td>\n",
       "                        <td id=\"T_c7d7cb80_25d3_11ec_9511_0242ac1c0002row1_col1\" class=\"data row1 col1\" >0.494</td>\n",
       "                        <td id=\"T_c7d7cb80_25d3_11ec_9511_0242ac1c0002row1_col2\" class=\"data row1 col2\" >0.049</td>\n",
       "            </tr>\n",
       "    </tbody></table>"
      ],
      "text/plain": [
       "<pandas.io.formats.style.Styler at 0x7fe93c245dd0>"
      ]
     },
     "execution_count": 33,
     "metadata": {},
     "output_type": "execute_result"
    }
   ],
   "source": [
    "#apply groupby function on ab_test data tratment column\n",
    "conversion_rates = ab_test.groupby('treatment')['converted']\n",
    "\n",
    "# Std. deviation of the proportion\n",
    "std_p = lambda x: np.std(x, ddof=0)   \n",
    "\n",
    "# Std. error of the proportion (std / sqrt(n))\n",
    "se_p = lambda x: stats.sem(x, ddof=0)           \n",
    "\n",
    "# conversion Rates of control and test \n",
    "conversion_rates = conversion_rates.agg([np.mean, std_p, se_p])\n",
    "conversion_rates.columns = ['conversion_rate', 'std_deviation', 'std_error']\n",
    "conversion_rates.style.format('{:.3f}')"
   ]
  },
  {
   "cell_type": "markdown",
   "metadata": {
    "id": "qVC-qj-HWXzr"
   },
   "source": [
    "Judging by the stats above, it does look like our two treatments performed very similarly, with our new feature performing slightly better, approx. 58% vs. 51% conversion rate. So in accordance to A/B test we should stick to our new features."
   ]
  },
  {
   "cell_type": "code",
   "execution_count": null,
   "metadata": {
    "id": "ZU-Kn_N7WItS"
   },
   "outputs": [],
   "source": []
  }
 ],
 "metadata": {
  "colab": {
   "collapsed_sections": [],
   "name": "ABtesting_v3.ipynb",
   "provenance": []
  },
  "kernelspec": {
   "display_name": "Python 3",
   "language": "python",
   "name": "python3"
  },
  "language_info": {
   "codemirror_mode": {
    "name": "ipython",
    "version": 3
   },
   "file_extension": ".py",
   "mimetype": "text/x-python",
   "name": "python",
   "nbconvert_exporter": "python",
   "pygments_lexer": "ipython3",
   "version": "3.8.5"
  }
 },
 "nbformat": 4,
 "nbformat_minor": 1
}
